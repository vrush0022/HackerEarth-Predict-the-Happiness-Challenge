{
  "nbformat": 4,
  "nbformat_minor": 0,
  "metadata": {
    "colab": {
      "name": "TextClassification-TripAdvisor.ipynb",
      "version": "0.3.2",
      "provenance": [],
      "collapsed_sections": []
    },
    "language_info": {
      "codemirror_mode": {
        "name": "ipython",
        "version": 3
      },
      "file_extension": ".py",
      "mimetype": "text/x-python",
      "name": "python",
      "nbconvert_exporter": "python",
      "pygments_lexer": "ipython3",
      "version": "3.6.5"
    },
    "kernelspec": {
      "name": "python3",
      "display_name": "Python 3"
    },
    "accelerator": "TPU"
  },
  "cells": [
    {
      "cell_type": "code",
      "metadata": {
        "id": "v80r4EzBM2Pe",
        "colab_type": "code",
        "outputId": "7c78faa8-958f-40e6-f511-b1724a33dd6e",
        "colab": {
          "base_uri": "https://localhost:8080/",
          "height": 343
        }
      },
      "source": [
        "!pip install pyspellchecker\n",
        "!pip install gensim"
      ],
      "execution_count": 0,
      "outputs": [
        {
          "output_type": "stream",
          "text": [
            "Requirement already satisfied: pyspellchecker in /usr/local/lib/python3.6/dist-packages (0.4.0)\n",
            "Requirement already satisfied: gensim in /usr/local/lib/python3.6/dist-packages (3.6.0)\n",
            "Requirement already satisfied: numpy>=1.11.3 in /usr/local/lib/python3.6/dist-packages (from gensim) (1.16.3)\n",
            "Requirement already satisfied: six>=1.5.0 in /usr/local/lib/python3.6/dist-packages (from gensim) (1.12.0)\n",
            "Requirement already satisfied: scipy>=0.18.1 in /usr/local/lib/python3.6/dist-packages (from gensim) (1.2.1)\n",
            "Requirement already satisfied: smart-open>=1.2.1 in /usr/local/lib/python3.6/dist-packages (from gensim) (1.8.3)\n",
            "Requirement already satisfied: boto>=2.32 in /usr/local/lib/python3.6/dist-packages (from smart-open>=1.2.1->gensim) (2.49.0)\n",
            "Requirement already satisfied: boto3 in /usr/local/lib/python3.6/dist-packages (from smart-open>=1.2.1->gensim) (1.9.140)\n",
            "Requirement already satisfied: requests in /usr/local/lib/python3.6/dist-packages (from smart-open>=1.2.1->gensim) (2.21.0)\n",
            "Requirement already satisfied: s3transfer<0.3.0,>=0.2.0 in /usr/local/lib/python3.6/dist-packages (from boto3->smart-open>=1.2.1->gensim) (0.2.0)\n",
            "Requirement already satisfied: jmespath<1.0.0,>=0.7.1 in /usr/local/lib/python3.6/dist-packages (from boto3->smart-open>=1.2.1->gensim) (0.9.4)\n",
            "Requirement already satisfied: botocore<1.13.0,>=1.12.140 in /usr/local/lib/python3.6/dist-packages (from boto3->smart-open>=1.2.1->gensim) (1.12.140)\n",
            "Requirement already satisfied: certifi>=2017.4.17 in /usr/local/lib/python3.6/dist-packages (from requests->smart-open>=1.2.1->gensim) (2019.3.9)\n",
            "Requirement already satisfied: idna<2.9,>=2.5 in /usr/local/lib/python3.6/dist-packages (from requests->smart-open>=1.2.1->gensim) (2.8)\n",
            "Requirement already satisfied: chardet<3.1.0,>=3.0.2 in /usr/local/lib/python3.6/dist-packages (from requests->smart-open>=1.2.1->gensim) (3.0.4)\n",
            "Requirement already satisfied: urllib3<1.25,>=1.21.1 in /usr/local/lib/python3.6/dist-packages (from requests->smart-open>=1.2.1->gensim) (1.24.2)\n",
            "Requirement already satisfied: docutils>=0.10 in /usr/local/lib/python3.6/dist-packages (from botocore<1.13.0,>=1.12.140->boto3->smart-open>=1.2.1->gensim) (0.14)\n",
            "Requirement already satisfied: python-dateutil<3.0.0,>=2.1; python_version >= \"2.7\" in /usr/local/lib/python3.6/dist-packages (from botocore<1.13.0,>=1.12.140->boto3->smart-open>=1.2.1->gensim) (2.5.3)\n"
          ],
          "name": "stdout"
        }
      ]
    },
    {
      "cell_type": "code",
      "metadata": {
        "id": "PqYMeFruMg6g",
        "colab_type": "code",
        "outputId": "71d3a229-c1c0-4538-fe2e-ec02438a3607",
        "colab": {
          "base_uri": "https://localhost:8080/",
          "height": 391
        }
      },
      "source": [
        "import tqdm\n",
        "import itertools\n",
        "import re\n",
        "import nltk\n",
        "#nltk.download('stopwords')\n",
        "import string\n",
        "import pandas as pd\n",
        "import collections\n",
        "import seaborn as sns\n",
        "from nltk.tag import pos_tag\n",
        "from nltk.tag import map_tag\n",
        "from spellchecker import SpellChecker\n",
        "from nltk.stem import PorterStemmer,WordNetLemmatizer\n",
        "import numpy as np\n",
        "nltk.download('maxent_ne_chunker')\n",
        "nltk.download('punkt')\n",
        "nltk.download('averaged_perceptron_tagger')\n",
        "nltk.download('tagsets')\n",
        "nltk.download('universal_tagset')\n",
        "nltk.download('maxent_ne_chunker')\n",
        "nltk.download('words')\n",
        "nltk.download('stopwords')\n",
        "nltk.download('wordnet')\n",
        "from nltk.corpus import stopwords\n",
        "from sklearn.feature_extraction.text import TfidfVectorizer,CountVectorizer\n",
        "from sklearn.naive_bayes import ComplementNB,MultinomialNB,GaussianNB\n",
        "from sklearn import metrics\n",
        "import collections\n",
        "from sklearn.model_selection import train_test_split\n",
        "from wordcloud import WordCloud\n",
        "import matplotlib.pyplot as plt\n"
      ],
      "execution_count": 0,
      "outputs": [
        {
          "output_type": "stream",
          "text": [
            "[nltk_data] Downloading package maxent_ne_chunker to\n",
            "[nltk_data]     /root/nltk_data...\n",
            "[nltk_data]   Package maxent_ne_chunker is already up-to-date!\n",
            "[nltk_data] Downloading package punkt to /root/nltk_data...\n",
            "[nltk_data]   Package punkt is already up-to-date!\n",
            "[nltk_data] Downloading package averaged_perceptron_tagger to\n",
            "[nltk_data]     /root/nltk_data...\n",
            "[nltk_data]   Package averaged_perceptron_tagger is already up-to-\n",
            "[nltk_data]       date!\n",
            "[nltk_data] Downloading package tagsets to /root/nltk_data...\n",
            "[nltk_data]   Package tagsets is already up-to-date!\n",
            "[nltk_data] Downloading package universal_tagset to /root/nltk_data...\n",
            "[nltk_data]   Package universal_tagset is already up-to-date!\n",
            "[nltk_data] Downloading package maxent_ne_chunker to\n",
            "[nltk_data]     /root/nltk_data...\n",
            "[nltk_data]   Package maxent_ne_chunker is already up-to-date!\n",
            "[nltk_data] Downloading package words to /root/nltk_data...\n",
            "[nltk_data]   Package words is already up-to-date!\n",
            "[nltk_data] Downloading package stopwords to /root/nltk_data...\n",
            "[nltk_data]   Package stopwords is already up-to-date!\n",
            "[nltk_data] Downloading package wordnet to /root/nltk_data...\n",
            "[nltk_data]   Package wordnet is already up-to-date!\n"
          ],
          "name": "stdout"
        }
      ]
    },
    {
      "cell_type": "code",
      "metadata": {
        "id": "DI9n3XdKMqDe",
        "colab_type": "code",
        "outputId": "cc659e68-383b-40b5-f246-c3a9d32bc80a",
        "colab": {
          "base_uri": "https://localhost:8080/",
          "height": 34
        }
      },
      "source": [
        "#Mount the Drive\n",
        "from google.colab import drive\n",
        "drive.mount('/content/gdrive')"
      ],
      "execution_count": 0,
      "outputs": [
        {
          "output_type": "stream",
          "text": [
            "Drive already mounted at /content/gdrive; to attempt to forcibly remount, call drive.mount(\"/content/gdrive\", force_remount=True).\n"
          ],
          "name": "stdout"
        }
      ]
    },
    {
      "cell_type": "code",
      "metadata": {
        "id": "9-iMAz6aMg6q",
        "colab_type": "code",
        "colab": {}
      },
      "source": [
        "def convertToSentence(record):\n",
        "    return (nltk.sent_tokenize(record))"
      ],
      "execution_count": 0,
      "outputs": []
    },
    {
      "cell_type": "code",
      "metadata": {
        "id": "wwKAxRC_Mg6u",
        "colab_type": "code",
        "colab": {}
      },
      "source": [
        "def wordTokenize(sentences):\n",
        "    return ([nltk.word_tokenize(sent) for sent in sentences])"
      ],
      "execution_count": 0,
      "outputs": []
    },
    {
      "cell_type": "code",
      "metadata": {
        "id": "USSWSuVgMg6x",
        "colab_type": "code",
        "colab": {}
      },
      "source": [
        "def tagPOS(word_tokenized):\n",
        "    return ([nltk.pos_tag(sent) for sent in word_tokenized])"
      ],
      "execution_count": 0,
      "outputs": []
    },
    {
      "cell_type": "code",
      "metadata": {
        "id": "Pfl3tCvBMg60",
        "colab_type": "code",
        "colab": {}
      },
      "source": [
        "#METHOD NOT USED IN FINAL MODEL#\n",
        "def processDataForUnigram(pos_tagged):\n",
        "    #Approach for Unigram Model\n",
        "    #1. Find the Named Entity(Exclude Proper Nouns)\n",
        "    #2. Reduce the lengthing of Non Named Entity Words followed by Spell Correction\n",
        "    #3.Do stemming of the words using PorterStemmer\n",
        "    #4.Remove Stop Words\n",
        "    #5.Remove all the punctuations\n",
        "    #Keep only alphabetical\n",
        "    stop=stopwords.words('english')\n",
        "    cleaned_tags=[]\n",
        "    spell=SpellChecker()\n",
        "    porter=PorterStemmer()\n",
        "    regex = re.compile('[^a-zA-Z]')\n",
        "    pos_to_consider=['JJ','JJR','JJS','MD','RB','RBR','RBS','UH','VB','VBD','VBG','VBN','VBP','VBZ','NN']#only keep certain POS tags(adj,adverbs,verbs etc)\n",
        "    for item in pos_tagged:\n",
        "        sent=[]\n",
        "        tree=nltk.ne_chunk(item, binary=True)\n",
        "\n",
        "        for val in tree:\n",
        "            if isinstance(val,nltk.tree.Tree):\n",
        "               # sent.append((' '.join([w for w,t in val]),'NE'))\n",
        "                 sent.append(' '.join([w for w,t in val]))#Dont do any preprocessing on named entity\n",
        "            else:\n",
        "                 #These are not named entities. So do spell correction on them        \n",
        "                if(len(val[0])>=3 and val[1] in pos_to_consider):  #exclude words having less than 3 characters               \n",
        "                    word=val[0]\n",
        "                    word=reduce_lengthening(text=word)#Reduce Lengthing\n",
        "                    if spell.unknown(word):\n",
        "                        word=spell.correction(word)#Spell Correction\n",
        "                    word=porter.stem(word)#using stemming instead of lemmatization\n",
        "                    if (word not in stop):\n",
        "                        word=word.translate(word.maketrans('','',string.punctuation))#remove punctuations\n",
        "                        word=regex.sub('', word)#remove non alphabets\n",
        "                        sent.append(word)   \n",
        "        cleaned_tags.append(sent)\n",
        "    return (cleaned_tags)"
      ],
      "execution_count": 0,
      "outputs": []
    },
    {
      "cell_type": "code",
      "metadata": {
        "id": "xuYstfKZMg64",
        "colab_type": "code",
        "colab": {}
      },
      "source": [
        "def reduce_lengthening(text):\n",
        "    pattern = re.compile(r\"(.)\\1{2,}\")\n",
        "    return pattern.sub(r\"\\1\\1\", text)"
      ],
      "execution_count": 0,
      "outputs": []
    },
    {
      "cell_type": "code",
      "metadata": {
        "id": "Kiyla9l9Mg67",
        "colab_type": "code",
        "colab": {}
      },
      "source": [
        "def processReview(record):\n",
        "    return(processDataForUnigram(tagPOS(wordTokenize(convertToSentence(record)))))"
      ],
      "execution_count": 0,
      "outputs": []
    },
    {
      "cell_type": "code",
      "metadata": {
        "id": "uZkiWRaWMg6-",
        "colab_type": "code",
        "colab": {}
      },
      "source": [
        "#load train data\n",
        "train_data=pd.read_csv('/content/gdrive/My Drive/trip_advisor/train.csv')\n"
      ],
      "execution_count": 0,
      "outputs": []
    },
    {
      "cell_type": "code",
      "metadata": {
        "id": "4Im4bMgH_vol",
        "colab_type": "code",
        "colab": {}
      },
      "source": [
        "#load test data\n",
        "test_data=pd.read_csv('/content/gdrive/My Drive/trip_advisor/test.csv')"
      ],
      "execution_count": 0,
      "outputs": []
    },
    {
      "cell_type": "code",
      "metadata": {
        "id": "kN04Rt6TMg7D",
        "colab_type": "code",
        "outputId": "f526d0ae-af0c-4991-beba-01d30dca0ffb",
        "colab": {
          "base_uri": "https://localhost:8080/",
          "height": 204
        }
      },
      "source": [
        "train_data.head()"
      ],
      "execution_count": 0,
      "outputs": [
        {
          "output_type": "execute_result",
          "data": {
            "text/html": [
              "<div>\n",
              "<style scoped>\n",
              "    .dataframe tbody tr th:only-of-type {\n",
              "        vertical-align: middle;\n",
              "    }\n",
              "\n",
              "    .dataframe tbody tr th {\n",
              "        vertical-align: top;\n",
              "    }\n",
              "\n",
              "    .dataframe thead th {\n",
              "        text-align: right;\n",
              "    }\n",
              "</style>\n",
              "<table border=\"1\" class=\"dataframe\">\n",
              "  <thead>\n",
              "    <tr style=\"text-align: right;\">\n",
              "      <th></th>\n",
              "      <th>Description</th>\n",
              "      <th>Device_Used</th>\n",
              "      <th>Is_Response</th>\n",
              "    </tr>\n",
              "  </thead>\n",
              "  <tbody>\n",
              "    <tr>\n",
              "      <th>0</th>\n",
              "      <td>The room was kind of clean but had a VERY stro...</td>\n",
              "      <td>Mobile</td>\n",
              "      <td>not happy</td>\n",
              "    </tr>\n",
              "    <tr>\n",
              "      <th>1</th>\n",
              "      <td>I stayed at the Crown Plaza April -- - April -...</td>\n",
              "      <td>Mobile</td>\n",
              "      <td>not happy</td>\n",
              "    </tr>\n",
              "    <tr>\n",
              "      <th>2</th>\n",
              "      <td>I booked this hotel through Hotwire at the low...</td>\n",
              "      <td>Tablet</td>\n",
              "      <td>not happy</td>\n",
              "    </tr>\n",
              "    <tr>\n",
              "      <th>3</th>\n",
              "      <td>Stayed here with husband and sons on the way t...</td>\n",
              "      <td>Desktop</td>\n",
              "      <td>happy</td>\n",
              "    </tr>\n",
              "    <tr>\n",
              "      <th>4</th>\n",
              "      <td>My girlfriends and I stayed here to celebrate ...</td>\n",
              "      <td>Tablet</td>\n",
              "      <td>not happy</td>\n",
              "    </tr>\n",
              "  </tbody>\n",
              "</table>\n",
              "</div>"
            ],
            "text/plain": [
              "                                         Description Device_Used Is_Response\n",
              "0  The room was kind of clean but had a VERY stro...      Mobile   not happy\n",
              "1  I stayed at the Crown Plaza April -- - April -...      Mobile   not happy\n",
              "2  I booked this hotel through Hotwire at the low...      Tablet   not happy\n",
              "3  Stayed here with husband and sons on the way t...     Desktop       happy\n",
              "4  My girlfriends and I stayed here to celebrate ...      Tablet   not happy"
            ]
          },
          "metadata": {
            "tags": []
          },
          "execution_count": 433
        }
      ]
    },
    {
      "cell_type": "code",
      "metadata": {
        "id": "WIJcWRE3Mg7S",
        "colab_type": "code",
        "outputId": "e2ca7207-0ee2-4be8-bd24-f926fedf02c8",
        "colab": {
          "base_uri": "https://localhost:8080/",
          "height": 266
        }
      },
      "source": [
        "#check if the device used to post review determines if the customer is happy or not\n",
        "#it is possible that customers who post through mobile or tablet are more likely to be unhappy\n",
        "#whereas those who post through desktop are more likely to be happy\n",
        "train_data[['Device_Used','Is_Response','Description']].groupby(['Device_Used','Is_Response']).count()"
      ],
      "execution_count": 0,
      "outputs": [
        {
          "output_type": "execute_result",
          "data": {
            "text/html": [
              "<div>\n",
              "<style scoped>\n",
              "    .dataframe tbody tr th:only-of-type {\n",
              "        vertical-align: middle;\n",
              "    }\n",
              "\n",
              "    .dataframe tbody tr th {\n",
              "        vertical-align: top;\n",
              "    }\n",
              "\n",
              "    .dataframe thead th {\n",
              "        text-align: right;\n",
              "    }\n",
              "</style>\n",
              "<table border=\"1\" class=\"dataframe\">\n",
              "  <thead>\n",
              "    <tr style=\"text-align: right;\">\n",
              "      <th></th>\n",
              "      <th></th>\n",
              "      <th>Description</th>\n",
              "    </tr>\n",
              "    <tr>\n",
              "      <th>Device_Used</th>\n",
              "      <th>Is_Response</th>\n",
              "      <th></th>\n",
              "    </tr>\n",
              "  </thead>\n",
              "  <tbody>\n",
              "    <tr>\n",
              "      <th rowspan=\"2\" valign=\"top\">Desktop</th>\n",
              "      <th>happy</th>\n",
              "      <td>10595</td>\n",
              "    </tr>\n",
              "    <tr>\n",
              "      <th>not happy</th>\n",
              "      <td>4431</td>\n",
              "    </tr>\n",
              "    <tr>\n",
              "      <th rowspan=\"2\" valign=\"top\">Mobile</th>\n",
              "      <th>happy</th>\n",
              "      <td>10602</td>\n",
              "    </tr>\n",
              "    <tr>\n",
              "      <th>not happy</th>\n",
              "      <td>4374</td>\n",
              "    </tr>\n",
              "    <tr>\n",
              "      <th rowspan=\"2\" valign=\"top\">Tablet</th>\n",
              "      <th>happy</th>\n",
              "      <td>5324</td>\n",
              "    </tr>\n",
              "    <tr>\n",
              "      <th>not happy</th>\n",
              "      <td>3606</td>\n",
              "    </tr>\n",
              "  </tbody>\n",
              "</table>\n",
              "</div>"
            ],
            "text/plain": [
              "                         Description\n",
              "Device_Used Is_Response             \n",
              "Desktop     happy              10595\n",
              "            not happy           4431\n",
              "Mobile      happy              10602\n",
              "            not happy           4374\n",
              "Tablet      happy               5324\n",
              "            not happy           3606"
            ]
          },
          "metadata": {
            "tags": []
          },
          "execution_count": 434
        }
      ]
    },
    {
      "cell_type": "markdown",
      "metadata": {
        "id": "np5-6Q2blVC-",
        "colab_type": "text"
      },
      "source": [
        "**FREQUENCY BASED APPROACH USING TFIDF**"
      ]
    },
    {
      "cell_type": "code",
      "metadata": {
        "id": "kqpawaIMnhp-",
        "colab_type": "code",
        "colab": {}
      },
      "source": [
        "#GLOBAL Variables\n",
        "stop=stopwords.words('english')\n",
        "cleaned_tags=[]\n",
        "spell=SpellChecker()\n",
        "lemmatizer=WordNetLemmatizer()\n",
        "regex = re.compile('[^a-zA-Z]')\n",
        "pos_to_consider=['ADJ','VERB','X','ADV']#only keep certain POS tags(adj,adverbs,verbs etc)\n",
        "\n",
        "def cleanText(lst):\n",
        "    sent=[]\n",
        "    for item in lst:  \n",
        "        pos=map_tag('en-ptb', 'universal', item[1])#get universal tagset for POS\n",
        "        if(len(item[0])>=3 and pos in pos_to_consider):  #exclude words having less than 3 characters               \n",
        "            word=item[0]            \n",
        "            word=reduce_lengthening(text=word)#Reduce Lengthing\n",
        "            #if spell.unknown(word):\n",
        "            #    word=spell.correction(word)#Spell Correction taking lot of time.so commenting it\n",
        "            if (word not in stop):                \n",
        "                word=word.translate(word.maketrans('','',string.punctuation))#remove punctuations\n",
        "                word=regex.sub('', word)#remove non alphabets\n",
        "                #word=porter.stem(word)#Stemming not giving good results\n",
        "                word=lemmatizer.lemmatize(word,pos=getPos(pos))\n",
        "                sent.append(word.lower()) \n",
        "    return sent\n",
        "  \n",
        "def getPos(tag):\n",
        "  if tag=='ADJ':\n",
        "    return('a')\n",
        "  elif tag=='VERB':\n",
        "    return('v')\n",
        "  elif tag=='ADV':\n",
        "    return('r')\n",
        "  else:\n",
        "    return('n')"
      ],
      "execution_count": 0,
      "outputs": []
    },
    {
      "cell_type": "code",
      "metadata": {
        "id": "Fe9elKqonoeT",
        "colab_type": "code",
        "colab": {}
      },
      "source": [
        "#Cleaning the train data\n",
        "texts_train=train_data['Description'].tolist()\n",
        "cleaned=list(map(cleanText,(nltk.pos_tag_sents(map(nltk.word_tokenize,texts_train)))))\n",
        "cleaned_sents_train=[' '.join(item) for item in cleaned]\n",
        "train_data['Description']=np.array(cleaned_sents_train)"
      ],
      "execution_count": 0,
      "outputs": []
    },
    {
      "cell_type": "code",
      "metadata": {
        "id": "GQ0kVpTGpz_C",
        "colab_type": "code",
        "colab": {}
      },
      "source": [
        "#cleaning the test data\n",
        "texts_test=test_data['Description'].tolist()\n",
        "t=map(cleanText,(nltk.pos_tag_sents(map(nltk.word_tokenize,texts_test))))\n",
        "cleaned=list(t)\n",
        "cleaned_sents_test=[' '.join(item) for item in cleaned]\n",
        "test_data['Description']=np.array(cleaned_sents_test)"
      ],
      "execution_count": 0,
      "outputs": []
    },
    {
      "cell_type": "code",
      "metadata": {
        "id": "HJjhuH7xI2be",
        "colab_type": "code",
        "colab": {}
      },
      "source": [
        "positive_words=(' '.join(train_data.loc[train_data['Is_Response']=='happy','Description']))\n",
        "negative_words=(' '.join(train_data.loc[train_data['Is_Response']=='not happy','Description']))\n"
      ],
      "execution_count": 0,
      "outputs": []
    },
    {
      "cell_type": "code",
      "metadata": {
        "id": "fuU4Bg2dJOoq",
        "colab_type": "code",
        "outputId": "2e9caaee-1e5a-41c2-bd46-3b82801cf289",
        "colab": {
          "base_uri": "https://localhost:8080/",
          "height": 219
        }
      },
      "source": [
        "#wordcloud for positive words\n",
        "cloud=WordCloud().generate(positive_words)\n",
        "plt.imshow(cloud)\n",
        "plt.axis('off')\n",
        "plt.show()\n"
      ],
      "execution_count": 0,
      "outputs": [
        {
          "output_type": "display_data",
          "data": {
            "image/png": "[encoded data removed]",
            "text/plain": [
              "<Figure size 432x288 with 1 Axes>"
            ]
          },
          "metadata": {
            "tags": []
          }
        }
      ]
    },
    {
      "cell_type": "code",
      "metadata": {
        "id": "nUGOOXz9Kecs",
        "colab_type": "code",
        "outputId": "48ea275b-60f3-4f0c-abc2-bf339243bfba",
        "colab": {
          "base_uri": "https://localhost:8080/",
          "height": 219
        }
      },
      "source": [
        "#word cloud for negative words\n",
        "cloud=WordCloud().generate(negative_words)\n",
        "plt.imshow(cloud)\n",
        "plt.axis('off')\n",
        "plt.show()\n"
      ],
      "execution_count": 0,
      "outputs": [
        {
          "output_type": "display_data",
          "data": {
            "image/png": "[encoded data removed]",
            "text/plain": [
              "<Figure size 432x288 with 1 Axes>"
            ]
          },
          "metadata": {
            "tags": []
          }
        }
      ]
    },
    {
      "cell_type": "code",
      "metadata": {
        "id": "5-nv6hMqMO4s",
        "colab_type": "code",
        "colab": {}
      },
      "source": [
        "#Both the positive and negative words are lot in common. so we will have to exclude the high freq common words\n",
        "pos_tokens=nltk.word_tokenize(positive_words)\n",
        "neg_tokens=nltk.word_tokenize(negative_words)\n"
      ],
      "execution_count": 0,
      "outputs": []
    },
    {
      "cell_type": "code",
      "metadata": {
        "id": "0-nnCAhUMrDv",
        "colab_type": "code",
        "colab": {}
      },
      "source": [
        "#Identify the high frequency positive and negative words\n",
        "most_common_pos=[word for word,count in collections.Counter(pos_tokens).most_common() if count>2000]\n",
        "most_common_neg=[word for word,count in collections.Counter(neg_tokens).most_common() if count>2000]\n",
        "words_to_remove=np.intersect1d(most_common_pos,most_common_neg)"
      ],
      "execution_count": 0,
      "outputs": []
    },
    {
      "cell_type": "code",
      "metadata": {
        "id": "CXNVfUzJVzG0",
        "colab_type": "code",
        "colab": {}
      },
      "source": [
        "words_to_remove=list(words_to_remove)#these are the high frequency words occurring in both positive and negative reviews"
      ],
      "execution_count": 0,
      "outputs": []
    },
    {
      "cell_type": "code",
      "metadata": {
        "id": "n5JhpcMdHAVZ",
        "colab_type": "code",
        "outputId": "03801569-8338-448b-9e79-478b0c0e6bba",
        "colab": {
          "base_uri": "https://localhost:8080/",
          "height": 34
        }
      },
      "source": [
        "len(words_to_remove)"
      ],
      "execution_count": 0,
      "outputs": [
        {
          "output_type": "execute_result",
          "data": {
            "text/plain": [
              "48"
            ]
          },
          "metadata": {
            "tags": []
          },
          "execution_count": 454
        }
      ]
    },
    {
      "cell_type": "markdown",
      "metadata": {
        "id": "dhcxwSQeH8II",
        "colab_type": "text"
      },
      "source": [
        "**UNIGRAM MODEL**"
      ]
    },
    {
      "cell_type": "code",
      "metadata": {
        "id": "6LNlmcSz3adI",
        "colab_type": "code",
        "colab": {}
      },
      "source": [
        "#Split into train and dev\n",
        "X_train,X_dev,y_train,y_dev = train_test_split(train_data['Description'],train_data['Is_Response'],test_size=0.25, random_state = 25)"
      ],
      "execution_count": 0,
      "outputs": []
    },
    {
      "cell_type": "code",
      "metadata": {
        "id": "ed1iimZT25Ic",
        "colab_type": "code",
        "colab": {}
      },
      "source": [
        "#vectorizer = TfidfVectorizer(min_df=50,max_df=7000,max_features=3000,stop_words=words_to_remove)#TFIDF not improving results\n",
        "vectorizer = CountVectorizer(stop_words=words_to_remove,max_features=3000,analyzer='word')\n",
        "X_train=vectorizer.fit_transform(X_train)#Fitting the count vectorizer only on train data\n",
        "X_dev=vectorizer.transform(X_dev)\n",
        "X_test=vectorizer.transform(test_data['Description'])"
      ],
      "execution_count": 0,
      "outputs": []
    },
    {
      "cell_type": "code",
      "metadata": {
        "colab_type": "code",
        "outputId": "7bd2d824-80ca-4c90-92bb-45c13a44da64",
        "id": "vk4IoTpztn8U",
        "colab": {
          "base_uri": "https://localhost:8080/",
          "height": 34
        }
      },
      "source": [
        "clf = MultinomialNB()\n",
        "clf.fit(X_train,y_train)"
      ],
      "execution_count": 0,
      "outputs": [
        {
          "output_type": "execute_result",
          "data": {
            "text/plain": [
              "MultinomialNB(alpha=1.0, class_prior=None, fit_prior=True)"
            ]
          },
          "metadata": {
            "tags": []
          },
          "execution_count": 530
        }
      ]
    },
    {
      "cell_type": "code",
      "metadata": {
        "colab_type": "code",
        "outputId": "7a7bd060-14ad-47a6-ff60-604f3aa695a8",
        "id": "pK4JN4gRtnd9",
        "colab": {
          "base_uri": "https://localhost:8080/",
          "height": 170
        }
      },
      "source": [
        "#Accuracy on train\n",
        "print(metrics.classification_report(y_train,clf.predict(X_train)))"
      ],
      "execution_count": 0,
      "outputs": [
        {
          "output_type": "stream",
          "text": [
            "              precision    recall  f1-score   support\n",
            "\n",
            "       happy       0.89      0.92      0.90     19861\n",
            "   not happy       0.82      0.75      0.78      9338\n",
            "\n",
            "   micro avg       0.87      0.87      0.87     29199\n",
            "   macro avg       0.85      0.84      0.84     29199\n",
            "weighted avg       0.87      0.87      0.87     29199\n",
            "\n"
          ],
          "name": "stdout"
        }
      ]
    },
    {
      "cell_type": "code",
      "metadata": {
        "colab_type": "code",
        "id": "PVlIHSbUtnSh",
        "colab": {}
      },
      "source": [
        "pred=clf.predict(X_dev)"
      ],
      "execution_count": 0,
      "outputs": []
    },
    {
      "cell_type": "code",
      "metadata": {
        "id": "QyqDiQfJ5ofB",
        "colab_type": "code",
        "outputId": "fe7652c5-cc1f-4f16-aa99-ab67d7491b5c",
        "colab": {
          "base_uri": "https://localhost:8080/",
          "height": 170
        }
      },
      "source": [
        "#Accuracy on Dev\n",
        "print(metrics.classification_report(y_dev,pred))"
      ],
      "execution_count": 0,
      "outputs": [
        {
          "output_type": "stream",
          "text": [
            "              precision    recall  f1-score   support\n",
            "\n",
            "       happy       0.89      0.91      0.90      6660\n",
            "   not happy       0.80      0.75      0.77      3073\n",
            "\n",
            "   micro avg       0.86      0.86      0.86      9733\n",
            "   macro avg       0.84      0.83      0.84      9733\n",
            "weighted avg       0.86      0.86      0.86      9733\n",
            "\n"
          ],
          "name": "stdout"
        }
      ]
    },
    {
      "cell_type": "code",
      "metadata": {
        "id": "AuHzN1hV5yvg",
        "colab_type": "code",
        "colab": {}
      },
      "source": [
        "########################\n",
        "#Predictions on test set\n",
        "test_pred=clf.predict(X_test)\n",
        "result=np.column_stack((np.array(test_data['User_ID']),test_pred))\n",
        "res=pd.DataFrame(result,columns=['User_ID','Is_Response'])\n",
        "res.to_csv('/content/gdrive/My Drive/trip_advisor/output13_unigram_cv3000.csv',index=False)\n"
      ],
      "execution_count": 0,
      "outputs": []
    },
    {
      "cell_type": "markdown",
      "metadata": {
        "id": "WLyMjkkTpcOY",
        "colab_type": "text"
      },
      "source": [
        "**PS::The expected label on hackerearth is not_happy instead of the training label not happy. So after writing the submission file, manually change the label before submitting**"
      ]
    },
    {
      "cell_type": "markdown",
      "metadata": {
        "id": "6UrL0yOmmQ8B",
        "colab_type": "text"
      },
      "source": [
        "**ACCURACY ON TEST:0.858 on HackerEarth**"
      ]
    },
    {
      "cell_type": "markdown",
      "metadata": {
        "id": "YtdzToySIBa7",
        "colab_type": "text"
      },
      "source": [
        "**BIGRAM MODEL**"
      ]
    },
    {
      "cell_type": "code",
      "metadata": {
        "id": "vktN2StnIYkl",
        "colab_type": "code",
        "colab": {}
      },
      "source": [
        "#Split into train and dev\n",
        "X_train,X_dev,y_train,y_dev = train_test_split(train_data['Description'],train_data['Is_Response'],test_size=0.25, random_state = 25)"
      ],
      "execution_count": 0,
      "outputs": []
    },
    {
      "cell_type": "code",
      "metadata": {
        "id": "uZj6B1nVIERP",
        "colab_type": "code",
        "colab": {}
      },
      "source": [
        "vectorizer2 = CountVectorizer(stop_words=words_to_remove,max_features=3000,analyzer='word',ngram_range=(1,2))\n",
        "X_train=vectorizer2.fit_transform(X_train)\n",
        "X_dev=vectorizer2.transform(X_dev)\n",
        "X_test=vectorizer2.transform(test_data['Description'])"
      ],
      "execution_count": 0,
      "outputs": []
    },
    {
      "cell_type": "code",
      "metadata": {
        "id": "qy7xkbRWIdW2",
        "colab_type": "code",
        "outputId": "32ec235b-0b66-4a7d-8a5d-34d80264164e",
        "colab": {
          "base_uri": "https://localhost:8080/",
          "height": 34
        }
      },
      "source": [
        "clf = MultinomialNB()\n",
        "clf.fit(X_train,y_train)"
      ],
      "execution_count": 0,
      "outputs": [
        {
          "output_type": "execute_result",
          "data": {
            "text/plain": [
              "MultinomialNB(alpha=1.0, class_prior=None, fit_prior=True)"
            ]
          },
          "metadata": {
            "tags": []
          },
          "execution_count": 541
        }
      ]
    },
    {
      "cell_type": "code",
      "metadata": {
        "id": "7jhQYw2BIl08",
        "colab_type": "code",
        "outputId": "cf675879-6bba-409e-8fb1-30ea56ab7172",
        "colab": {
          "base_uri": "https://localhost:8080/",
          "height": 170
        }
      },
      "source": [
        "#Accuracy on Dev\n",
        "print(metrics.classification_report(y_dev,clf.predict(X_dev)))"
      ],
      "execution_count": 0,
      "outputs": [
        {
          "output_type": "stream",
          "text": [
            "              precision    recall  f1-score   support\n",
            "\n",
            "       happy       0.89      0.90      0.90      6660\n",
            "   not happy       0.78      0.76      0.77      3073\n",
            "\n",
            "   micro avg       0.86      0.86      0.86      9733\n",
            "   macro avg       0.84      0.83      0.83      9733\n",
            "weighted avg       0.86      0.86      0.86      9733\n",
            "\n"
          ],
          "name": "stdout"
        }
      ]
    },
    {
      "cell_type": "code",
      "metadata": {
        "id": "a2fTOzJcI8s2",
        "colab_type": "code",
        "colab": {}
      },
      "source": [
        "########################\n",
        "#Predictions on test set\n",
        "test_pred=clf.predict(X_test)\n",
        "result=np.column_stack((np.array(test_data['User_ID']),test_pred))\n",
        "res=pd.DataFrame(result,columns=['User_ID','Is_Response'])\n",
        "res.to_csv('/content/gdrive/My Drive/trip_advisor/output12.csv',index=False)"
      ],
      "execution_count": 0,
      "outputs": []
    },
    {
      "cell_type": "markdown",
      "metadata": {
        "id": "b9Y-YdYHmpjG",
        "colab_type": "text"
      },
      "source": [
        "**ACCURACY ON TEST:0.848**"
      ]
    },
    {
      "cell_type": "markdown",
      "metadata": {
        "id": "4p4vhmeHmHTu",
        "colab_type": "text"
      },
      "source": [
        "**USING DOC2VEC APPROACH TO CAPTURE CONTEXT**"
      ]
    },
    {
      "cell_type": "code",
      "metadata": {
        "id": "i_5gwIkdbpZv",
        "colab_type": "code",
        "colab": {}
      },
      "source": [
        "#############trying word2vec############\n",
        "from gensim.models import Doc2Vec \n",
        "from gensim.models.doc2vec import TaggedDocument"
      ],
      "execution_count": 0,
      "outputs": []
    },
    {
      "cell_type": "code",
      "metadata": {
        "id": "UDL30pKeodGW",
        "colab_type": "code",
        "colab": {}
      },
      "source": [
        "regex = re.compile('[^a-zA-Z\\!]')\n",
        "punc=string.punctuation.replace('!','')\n",
        "def cleanTextForDoc2Vec(lst):\n",
        "    sent=[]\n",
        "    for item in lst:        \n",
        "        word=item            \n",
        "        word=reduce_lengthening(text=word)#Reduce Lengthing\n",
        "        word=word.translate(word.maketrans('','',punc))#remove punctuations except !\n",
        "        word=regex.sub('', word)#remove non alphabets\n",
        "        sent.append(word.lower()) \n",
        "    return sent"
      ],
      "execution_count": 0,
      "outputs": []
    },
    {
      "cell_type": "code",
      "metadata": {
        "id": "kvVQqwxFoCOY",
        "colab_type": "code",
        "colab": {}
      },
      "source": [
        "#The cleaning process for Doc2Vec will be different from normal Tfidf. Here we will just remove the punctuations,non alphabets and convert everything to lower case\n",
        "#we will not remove stop words or use stemming\n",
        "#Loading the data again\n",
        "train_data=pd.read_csv('/content/gdrive/My Drive/trip_advisor/train.csv')\n",
        "test_data=pd.read_csv('/content/gdrive/My Drive/trip_advisor/test.csv')\n"
      ],
      "execution_count": 0,
      "outputs": []
    },
    {
      "cell_type": "code",
      "metadata": {
        "id": "D2zwjWf2pL_9",
        "colab_type": "code",
        "colab": {}
      },
      "source": [
        "#cleaning the train data\n",
        "texts_train=train_data['Description'].tolist()\n",
        "t=map(cleanTextForDoc2Vec,(map(nltk.word_tokenize,texts_train)))\n",
        "cleaned=list(t)\n",
        "train_data['Description']=np.array(cleaned)"
      ],
      "execution_count": 0,
      "outputs": []
    },
    {
      "cell_type": "code",
      "metadata": {
        "id": "SPxKFKAeqYRU",
        "colab_type": "code",
        "colab": {}
      },
      "source": [
        "#cleaning the test data\n",
        "texts_test=test_data['Description'].tolist()\n",
        "t=map(cleanTextForDoc2Vec,(map(nltk.word_tokenize,texts_test)))\n",
        "cleaned=list(t)\n",
        "test_data['Description']=np.array(cleaned)"
      ],
      "execution_count": 0,
      "outputs": []
    },
    {
      "cell_type": "code",
      "metadata": {
        "id": "zo8AAMNWh0Vv",
        "colab_type": "code",
        "colab": {}
      },
      "source": [
        "labeled_recs=[]\n",
        "counter=0\n",
        "for rec,label in zip(train_data['Description'],train_data['Is_Response']):\n",
        "  T=TaggedDocument(rec,[label,counter])\n",
        "  labeled_recs.append(T)\n",
        "  counter+=1"
      ],
      "execution_count": 0,
      "outputs": []
    },
    {
      "cell_type": "code",
      "metadata": {
        "id": "WRdDmQyXD6Sx",
        "colab_type": "code",
        "colab": {}
      },
      "source": [
        "model=Doc2Vec(labeled_recs,vector_size=200, min_count=20,window=2,epochs=20)"
      ],
      "execution_count": 0,
      "outputs": []
    },
    {
      "cell_type": "code",
      "metadata": {
        "id": "MaIyZzRIhZpp",
        "colab_type": "code",
        "colab": {}
      },
      "source": [
        "#convert it into feature vector for input into classifier model\n",
        "labels, docvectors = zip(*[(doc.tags[0], model.infer_vector(doc.words, steps=20)) for doc in labeled_recs])\n",
        " "
      ],
      "execution_count": 0,
      "outputs": []
    },
    {
      "cell_type": "code",
      "metadata": {
        "id": "k5Aj8lPBtjI9",
        "colab_type": "code",
        "colab": {}
      },
      "source": [
        "from sklearn.model_selection import train_test_split\n",
        "from sklearn import preprocessing\n",
        "from sklearn.svm import SVC\n",
        "X_train,X_dev,y_train,y_dev = train_test_split(np.array(docvectors),labels,test_size=0.25, random_state = 25)"
      ],
      "execution_count": 0,
      "outputs": []
    },
    {
      "cell_type": "code",
      "metadata": {
        "id": "jvC_tJSWu66V",
        "colab_type": "code",
        "colab": {}
      },
      "source": [
        "minmaxscaler=preprocessing.MinMaxScaler()\n",
        "X_train=minmaxscaler.fit_transform(X_train)\n",
        "X_dev=minmaxscaler.transform(X_dev)"
      ],
      "execution_count": 0,
      "outputs": []
    },
    {
      "cell_type": "code",
      "metadata": {
        "id": "ko-RcX35ySNu",
        "colab_type": "code",
        "outputId": "41724a4f-7c6d-4111-ad22-e4d03c216649",
        "colab": {
          "base_uri": "https://localhost:8080/",
          "height": 71
        }
      },
      "source": [
        "svc=SVC(C=10).fit(X_train,y_train)"
      ],
      "execution_count": 0,
      "outputs": [
        {
          "output_type": "stream",
          "text": [
            "/usr/local/lib/python3.6/dist-packages/sklearn/svm/base.py:196: FutureWarning: The default value of gamma will change from 'auto' to 'scale' in version 0.22 to account better for unscaled features. Set gamma explicitly to 'auto' or 'scale' to avoid this warning.\n",
            "  \"avoid this warning.\", FutureWarning)\n"
          ],
          "name": "stderr"
        }
      ]
    },
    {
      "cell_type": "code",
      "metadata": {
        "id": "94fNNCAvyY1E",
        "colab_type": "code",
        "colab": {}
      },
      "source": [
        "pred=svc.predict(X_dev)"
      ],
      "execution_count": 0,
      "outputs": []
    },
    {
      "cell_type": "code",
      "metadata": {
        "id": "ESpF7_-Bz5vM",
        "colab_type": "code",
        "outputId": "d9b7b131-3af4-4355-8ef9-e1b61831b8ab",
        "colab": {
          "base_uri": "https://localhost:8080/",
          "height": 170
        }
      },
      "source": [
        "#Accuracy on Dev Set\n",
        "print(metrics.classification_report(y_dev,pred))"
      ],
      "execution_count": 0,
      "outputs": [
        {
          "output_type": "stream",
          "text": [
            "              precision    recall  f1-score   support\n",
            "\n",
            "       happy       0.87      0.94      0.90      6660\n",
            "   not happy       0.84      0.71      0.77      3073\n",
            "\n",
            "   micro avg       0.86      0.86      0.86      9733\n",
            "   macro avg       0.86      0.82      0.84      9733\n",
            "weighted avg       0.86      0.86      0.86      9733\n",
            "\n"
          ],
          "name": "stdout"
        }
      ]
    },
    {
      "cell_type": "code",
      "metadata": {
        "id": "veLcQzV9yy2E",
        "colab_type": "code",
        "colab": {}
      },
      "source": [
        "#######PREDICT ON TEST###########"
      ],
      "execution_count": 0,
      "outputs": []
    },
    {
      "cell_type": "code",
      "metadata": {
        "id": "sRR8lqxX0UDJ",
        "colab_type": "code",
        "colab": {}
      },
      "source": [
        "test_vectors=[model.infer_vector(words, steps=30) for words in test_data['Description']]\n",
        "test_vectors=minmaxscaler.transform(test_vectors)\n",
        "test_pred=svc.predict(test_vectors)\n",
        "result=np.column_stack((np.array(test_data['User_ID']),test_pred))\n",
        "res=pd.DataFrame(result,columns=['User_ID','Is_Response'])\n",
        "res.to_csv('/content/gdrive/My Drive/trip_advisor/svc2.csv',index=False)"
      ],
      "execution_count": 0,
      "outputs": []
    },
    {
      "cell_type": "markdown",
      "metadata": {
        "id": "HpN2ZzABn-yF",
        "colab_type": "text"
      },
      "source": [
        "**TEST ACCURACY: 0.856**"
      ]
    },
    {
      "cell_type": "code",
      "metadata": {
        "id": "OaG50HHloDSj",
        "colab_type": "code",
        "colab": {}
      },
      "source": [
        ""
      ],
      "execution_count": 0,
      "outputs": []
    }
  ]
}